{
 "cells": [
  {
   "cell_type": "code",
   "execution_count": 47,
   "metadata": {},
   "outputs": [],
   "source": [
    "import seaborn as sns\n",
    "import numpy as np\n",
    "import matplotlib.pyplot as plt\n",
    "from copy import deepcopy"
   ]
  },
  {
   "cell_type": "code",
   "execution_count": 10,
   "metadata": {},
   "outputs": [
    {
     "data": {
      "text/plain": [
       "(23, 23)"
      ]
     },
     "execution_count": 10,
     "metadata": {},
     "output_type": "execute_result"
    }
   ],
   "source": [
    "a = np.fromstring(\"\"\"15114.0 0.0 2450.0 562.0 1.0 0.0 1.0 0.0 0.0 1.0 140.0 6.0 6.0 14.0 11.0 105.0 94.0 0.0 7.0 298.0 1.0 14.0 0.0 \n",
    "0.0 27690.0 16.0 0.0 0.0 0.0 0.0 0.0 0.0 0.0 5.0 0.0 113.0 0.0 2.0 96.0 0.0 0.0 2.0 7.0 0.0 0.0 0.0 \n",
    "30.0 1.0 106848.0 441.0 12.0 44.0 254.0 156.0 87.0 26.0 261.0 51.0 151.0 120.0 6.0 3069.0 41.0 2.0 472.0 3058.0 27.0 212.0 0.0 \n",
    "66.0 0.0 10744.0 15803.0 49.0 5.0 14.0 51.0 337.0 150.0 1811.0 95.0 82.0 57.0 5.0 611.0 361.0 0.0 659.0 858.0 187.0 277.0 0.0 \n",
    "0.0 0.0 41.0 19.0 4106.0 94.0 0.0 38.0 11.0 34.0 4.0 0.0 0.0 1.0 0.0 38.0 0.0 0.0 5.0 101.0 0.0 1.0 0.0 \n",
    "0.0 0.0 268.0 2.0 78.0 19436.0 1.0 0.0 125.0 7.0 10.0 14.0 8.0 2.0 3.0 128.0 5.0 0.0 3.0 674.0 3.0 9.0 0.0 \n",
    "0.0 0.0 566.0 10.0 0.0 3.0 28688.0 2.0 0.0 1.0 0.0 0.0 0.0 1.0 3.0 699.0 0.0 0.0 1.0 805.0 0.0 6.0 0.0 \n",
    "0.0 0.0 33.0 6.0 2.0 0.0 0.0 1236.0 46.0 0.0 1.0 0.0 1.0 24.0 0.0 29.0 0.0 0.0 0.0 38.0 0.0 1.0 0.0 \n",
    "1.0 0.0 512.0 50.0 2.0 147.0 0.0 19.0 2037.0 11.0 24.0 1.0 2.0 41.0 0.0 100.0 2.0 1.0 13.0 109.0 11.0 11.0 0.0 \n",
    "0.0 0.0 13.0 0.0 195.0 0.0 0.0 0.0 5.0 3488.0 23.0 0.0 0.0 1.0 0.0 12.0 0.0 0.0 0.0 102.0 0.0 0.0 0.0 \n",
    "0.0 0.0 188.0 0.0 0.0 0.0 0.0 4.0 6.0 6.0 153.0 0.0 0.0 5.0 0.0 5.0 0.0 0.0 0.0 13.0 0.0 0.0 0.0 \n",
    "0.0 0.0 1.0 0.0 0.0 10.0 0.0 0.0 0.0 0.0 0.0 163.0 0.0 0.0 0.0 1.0 0.0 0.0 1.0 1.0 0.0 0.0 0.0 \n",
    "0.0 18.0 3.0 0.0 0.0 0.0 0.0 0.0 0.0 0.0 0.0 0.0 0.0 0.0 0.0 0.0 0.0 0.0 0.0 0.0 0.0 0.0 0.0 \n",
    "0.0 0.0 5.0 0.0 0.0 0.0 0.0 2.0 8.0 1.0 0.0 0.0 0.0 19.0 0.0 0.0 0.0 0.0 0.0 2.0 0.0 0.0 0.0 \n",
    "0.0 0.0 7.0 0.0 0.0 0.0 0.0 0.0 0.0 3.0 0.0 0.0 0.0 0.0 44.0 0.0 0.0 0.0 0.0 2.0 0.0 0.0 0.0 \n",
    "0.0 0.0 5.0 0.0 0.0 0.0 0.0 0.0 0.0 0.0 0.0 0.0 0.0 0.0 0.0 0.0 0.0 0.0 0.0 0.0 0.0 0.0 0.0 \n",
    "3.0 0.0 55.0 14.0 0.0 0.0 0.0 0.0 0.0 0.0 1.0 0.0 0.0 0.0 0.0 0.0 99.0 0.0 1.0 3.0 0.0 0.0 0.0 \n",
    "0.0 0.0 6.0 0.0 0.0 0.0 0.0 0.0 0.0 0.0 0.0 0.0 0.0 0.0 0.0 0.0 0.0 1.0 0.0 0.0 0.0 0.0 0.0 \n",
    "0.0 0.0 50.0 0.0 0.0 0.0 0.0 0.0 0.0 0.0 0.0 0.0 0.0 0.0 0.0 1.0 0.0 0.0 9.0 2.0 0.0 0.0 0.0 \n",
    "0.0 0.0 57.0 0.0 0.0 11.0 0.0 0.0 0.0 0.0 3.0 0.0 0.0 0.0 0.0 3.0 0.0 0.0 0.0 0.0 1.0 0.0 0.0 \n",
    "0.0 0.0 0.0 0.0 0.0 0.0 0.0 0.0 0.0 0.0 0.0 0.0 0.0 0.0 0.0 0.0 0.0 0.0 0.0 0.0 0.0 0.0 0.0 \n",
    "0.0 0.0 0.0 0.0 0.0 0.0 0.0 0.0 0.0 0.0 0.0 0.0 0.0 0.0 0.0 0.0 0.0 0.0 0.0 0.0 0.0 0.0 0.0 \n",
    "0.0 0.0 4.0 0.0 0.0 0.0 0.0 0.0 0.0 0.0 0.0 0.0 0.0 0.0 0.0 0.0 0.0 0.0 0.0 0.0 0.0 0.0 6.0\"\"\", sep=' ').reshape((23,23))\n",
    "a.shape"
   ]
  },
  {
   "cell_type": "code",
   "execution_count": 13,
   "metadata": {},
   "outputs": [
    {
     "data": {
      "text/plain": [
       "['V',\n",
       " 'DELM',\n",
       " 'N',\n",
       " 'ADJ',\n",
       " 'PRO',\n",
       " 'CON',\n",
       " 'P',\n",
       " 'QUA',\n",
       " 'ADV',\n",
       " 'DET',\n",
       " 'SPEC',\n",
       " 'IF',\n",
       " 'DEFAULT',\n",
       " 'MQUA',\n",
       " 'PP',\n",
       " 'INT',\n",
       " 'MORP',\n",
       " 'PS',\n",
       " 'MS',\n",
       " 'AR',\n",
       " 'NP',\n",
       " 'OHH',\n",
       " 'OH']"
      ]
     },
     "execution_count": 13,
     "metadata": {},
     "output_type": "execute_result"
    }
   ],
   "source": [
    "tags = '''V\n",
    "DELM\n",
    "N\n",
    "ADJ\n",
    "PRO\n",
    "CON\n",
    "P\n",
    "QUA\n",
    "ADV\n",
    "DET\n",
    "SPEC\n",
    "IF\n",
    "DEFAULT\n",
    "MQUA\n",
    "PP\n",
    "INT\n",
    "MORP\n",
    "PS\n",
    "MS\n",
    "AR\n",
    "NP\n",
    "OHH\n",
    "OH\n",
    "'''.strip().split('\\n')\n",
    "tags[:]"
   ]
  },
  {
   "cell_type": "code",
   "execution_count": 58,
   "metadata": {},
   "outputs": [
    {
     "data": {
      "text/plain": [
       "1"
      ]
     },
     "execution_count": 58,
     "metadata": {},
     "output_type": "execute_result"
    },
    {
     "data": {
      "image/png": "[encoded data removed]",
      "text/plain": [
       "<Figure size 936x720 with 2 Axes>"
      ]
     },
     "metadata": {
      "needs_background": "light"
     },
     "output_type": "display_data"
    }
   ],
   "source": [
    "fig, ax = plt.subplots(figsize=(13,10))\n",
    "ax = sns.heatmap(np.power(a, 1/3))\n",
    "ax.set_xticks(ax.get_xticks(), tags)\n",
    "ax.set_yticks(ax.get_yticks(), tags)\n",
    "\n",
    "1"
   ]
  },
  {
   "cell_type": "code",
   "execution_count": 15,
   "metadata": {},
   "outputs": [
    {
     "data": {
      "text/plain": [
       "<AxesSubplot:>"
      ]
     },
     "execution_count": 15,
     "metadata": {},
     "output_type": "execute_result"
    }
   ],
   "source": []
  },
  {
   "cell_type": "code",
   "execution_count": null,
   "metadata": {},
   "outputs": [],
   "source": []
  }
 ],
 "metadata": {
  "interpreter": {
   "hash": "31f2aee4e71d21fbe5cf8b01ff0e069b9275f58929596ceb00d14d90e3e16cd6"
  },
  "kernelspec": {
   "display_name": "Python 3.8.9 64-bit",
   "language": "python",
   "name": "python3"
  },
  "language_info": {
   "codemirror_mode": {
    "name": "ipython",
    "version": 3
   },
   "file_extension": ".py",
   "mimetype": "text/x-python",
   "name": "python",
   "nbconvert_exporter": "python",
   "pygments_lexer": "ipython3",
   "version": "3.8.9"
  },
  "orig_nbformat": 4
 },
 "nbformat": 4,
 "nbformat_minor": 2
}
